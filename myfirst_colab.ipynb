{
  "nbformat": 4,
  "nbformat_minor": 0,
  "metadata": {
    "colab": {
      "provenance": [],
      "authorship_tag": "ABX9TyMfpO/33Wc9WWqOwqEnlXSJ",
      "include_colab_link": true
    },
    "kernelspec": {
      "name": "python3",
      "display_name": "Python 3"
    },
    "language_info": {
      "name": "python"
    }
  },
  "cells": [
    {
      "cell_type": "markdown",
      "metadata": {
        "id": "view-in-github",
        "colab_type": "text"
      },
      "source": [
        "<a href=\"https://colab.research.google.com/github/jangjung-coding/uav_workshop_2023/blob/main/myfirst_colab.ipynb\" target=\"_parent\"><img src=\"https://colab.research.google.com/assets/colab-badge.svg\" alt=\"Open In Colab\"/></a>"
      ]
    },
    {
      "cell_type": "markdown",
      "source": [
        "#Hi\n"
      ],
      "metadata": {
        "id": "eWgEKTzd47PG"
      }
    },
    {
      "cell_type": "code",
      "execution_count": 9,
      "metadata": {
        "id": "7I74WAjk4SJg"
      },
      "outputs": [],
      "source": [
        "## This is my first colab\n",
        "### below is a sample program"
      ]
    },
    {
      "cell_type": "code",
      "source": [
        "print(\"Hello\")\n"
      ],
      "metadata": {
        "colab": {
          "base_uri": "https://localhost:8080/"
        },
        "id": "wAvocDUQ4zr3",
        "outputId": "eac1e2a7-451c-4d62-ddcd-89605ff26a6a"
      },
      "execution_count": 7,
      "outputs": [
        {
          "output_type": "stream",
          "name": "stdout",
          "text": [
            "Hello\n"
          ]
        }
      ]
    },
    {
      "cell_type": "markdown",
      "source": [
        "This is how command looks like in colab\n"
      ],
      "metadata": {
        "id": "FH6U8dyC5F24"
      }
    },
    {
      "cell_type": "code",
      "source": [],
      "metadata": {
        "id": "HwB3GbHi5VNs"
      },
      "execution_count": null,
      "outputs": []
    }
  ]
}