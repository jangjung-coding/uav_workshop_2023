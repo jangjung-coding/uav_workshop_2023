{
  "nbformat": 4,
  "nbformat_minor": 0,
  "metadata": {
    "colab": {
      "provenance": [],
      "authorship_tag": "ABX9TyOi2gZgY9XuMw03QYBIkXa5",
      "include_colab_link": true
    },
    "kernelspec": {
      "name": "python3",
      "display_name": "Python 3"
    },
    "language_info": {
      "name": "python"
    }
  },
  "cells": [
    {
      "cell_type": "markdown",
      "metadata": {
        "id": "view-in-github",
        "colab_type": "text"
      },
      "source": [
        "<a href=\"https://colab.research.google.com/github/jangjung-coding/uav_workshop_2023/blob/main/myfirst_colab.ipynb\" target=\"_parent\"><img src=\"https://colab.research.google.com/assets/colab-badge.svg\" alt=\"Open In Colab\"/></a>"
      ]
    },
    {
      "cell_type": "markdown",
      "source": [
        "#Hi\n"
      ],
      "metadata": {
        "id": "eWgEKTzd47PG"
      }
    },
    {
      "cell_type": "code",
      "source": [
        "print(\"Hello\")\n"
      ],
      "metadata": {
        "colab": {
          "base_uri": "https://localhost:8080/"
        },
        "id": "wAvocDUQ4zr3",
        "outputId": "eac1e2a7-451c-4d62-ddcd-89605ff26a6a"
      },
      "execution_count": null,
      "outputs": [
        {
          "output_type": "stream",
          "name": "stdout",
          "text": [
            "Hello\n"
          ]
        }
      ]
    },
    {
      "cell_type": "markdown",
      "source": [
        "This is how command looks like in colab\n"
      ],
      "metadata": {
        "id": "FH6U8dyC5F24"
      }
    },
    {
      "cell_type": "code",
      "source": [
        "print(\"update\")"
      ],
      "metadata": {
        "id": "HwB3GbHi5VNs",
        "colab": {
          "base_uri": "https://localhost:8080/"
        },
        "outputId": "b40ac809-2812-45b6-b066-4b47b9148cf0"
      },
      "execution_count": 1,
      "outputs": [
        {
          "output_type": "stream",
          "name": "stdout",
          "text": [
            "update\n"
          ]
        }
      ]
    },
    {
      "cell_type": "code",
      "source": [
        "print(\"f\")"
      ],
      "metadata": {
        "colab": {
          "base_uri": "https://localhost:8080/"
        },
        "id": "uhLaUah78r7k",
        "outputId": "87eb4afe-274a-4563-f00a-ac6e19a02600"
      },
      "execution_count": 2,
      "outputs": [
        {
          "output_type": "stream",
          "name": "stdout",
          "text": [
            "f\n"
          ]
        }
      ]
    }
  ]
}